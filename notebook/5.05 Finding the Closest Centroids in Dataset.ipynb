{
 "cells": [
  {
   "cell_type": "code",
   "execution_count": 1,
   "metadata": {},
   "outputs": [],
   "source": [
    "import pandas as pd\n",
    "from sklearn.cluster import KMeans\n",
    "import altair as alt"
   ]
  },
  {
   "cell_type": "code",
   "execution_count": 2,
   "metadata": {},
   "outputs": [],
   "source": [
    "file_url = r'https://raw.githubusercontent.com/sedeba19/Chapter-5/main/data/DataSet_taxstats2015.csv'"
   ]
  },
  {
   "cell_type": "code",
   "execution_count": 4,
   "metadata": {},
   "outputs": [],
   "source": [
    "df = pd.read_csv(file_url, \n",
    "                 usecols=['Postcode', \n",
    "                          'Average total business income', \n",
    "                          'Average total business expenses'])"
   ]
  },
  {
   "cell_type": "code",
   "execution_count": 5,
   "metadata": {},
   "outputs": [],
   "source": [
    "X = df[['Average total business income', \n",
    "        'Average total business expenses']]"
   ]
  },
  {
   "cell_type": "code",
   "execution_count": 7,
   "metadata": {},
   "outputs": [],
   "source": [
    "business_income_min = df['Average total business income'].min()\n",
    "business_income_max = df['Average total business income'].max()\n",
    "\n",
    "business_expenses_min = df['Average total business expenses'].min()\n",
    "business_expenses_max = df['Average total business expenses'].max()"
   ]
  },
  {
   "cell_type": "code",
   "execution_count": 8,
   "metadata": {},
   "outputs": [
    {
     "name": "stdout",
     "output_type": "stream",
     "text": [
      "0\n",
      "876324\n",
      "0\n",
      "884659\n"
     ]
    }
   ],
   "source": [
    "print(business_income_min)\n",
    "print(business_income_max)\n",
    "print(business_expenses_min)\n",
    "print(business_expenses_max)"
   ]
  },
  {
   "cell_type": "code",
   "execution_count": 9,
   "metadata": {},
   "outputs": [],
   "source": [
    "import random\n",
    "random.seed(42)"
   ]
  },
  {
   "cell_type": "code",
   "execution_count": 10,
   "metadata": {},
   "outputs": [],
   "source": [
    "centroids = pd.DataFrame()"
   ]
  },
  {
   "cell_type": "code",
   "execution_count": 11,
   "metadata": {},
   "outputs": [],
   "source": [
    "centroids['Average total business income'] = random.sample(range(business_income_min, \n",
    "                                                                 business_income_max), 4)"
   ]
  },
  {
   "cell_type": "code",
   "execution_count": 12,
   "metadata": {},
   "outputs": [],
   "source": [
    "centroids['Average total business expenses'] = random.sample(range(business_expenses_min, \n",
    "                                                                   business_expenses_max), 4)"
   ]
  },
  {
   "cell_type": "code",
   "execution_count": 13,
   "metadata": {},
   "outputs": [
    {
     "data": {
      "text/html": [
       "<div>\n",
       "<style scoped>\n",
       "    .dataframe tbody tr th:only-of-type {\n",
       "        vertical-align: middle;\n",
       "    }\n",
       "\n",
       "    .dataframe tbody tr th {\n",
       "        vertical-align: top;\n",
       "    }\n",
       "\n",
       "    .dataframe thead th {\n",
       "        text-align: right;\n",
       "    }\n",
       "</style>\n",
       "<table border=\"1\" class=\"dataframe\">\n",
       "  <thead>\n",
       "    <tr style=\"text-align: right;\">\n",
       "      <th></th>\n",
       "      <th>Average total business income</th>\n",
       "      <th>Average total business expenses</th>\n",
       "      <th>cluster</th>\n",
       "    </tr>\n",
       "  </thead>\n",
       "  <tbody>\n",
       "    <tr>\n",
       "      <th>0</th>\n",
       "      <td>670487</td>\n",
       "      <td>288389</td>\n",
       "      <td>0</td>\n",
       "    </tr>\n",
       "    <tr>\n",
       "      <th>1</th>\n",
       "      <td>116739</td>\n",
       "      <td>256787</td>\n",
       "      <td>1</td>\n",
       "    </tr>\n",
       "    <tr>\n",
       "      <th>2</th>\n",
       "      <td>26225</td>\n",
       "      <td>234053</td>\n",
       "      <td>2</td>\n",
       "    </tr>\n",
       "    <tr>\n",
       "      <th>3</th>\n",
       "      <td>777572</td>\n",
       "      <td>146316</td>\n",
       "      <td>3</td>\n",
       "    </tr>\n",
       "  </tbody>\n",
       "</table>\n",
       "</div>"
      ],
      "text/plain": [
       "   Average total business income  Average total business expenses  cluster\n",
       "0                         670487                           288389        0\n",
       "1                         116739                           256787        1\n",
       "2                          26225                           234053        2\n",
       "3                         777572                           146316        3"
      ]
     },
     "execution_count": 13,
     "metadata": {},
     "output_type": "execute_result"
    }
   ],
   "source": [
    "centroids['cluster'] = centroids.index\n",
    "centroids"
   ]
  },
  {
   "cell_type": "code",
   "execution_count": 15,
   "metadata": {},
   "outputs": [
    {
     "data": {
      "text/html": [
       "\n",
       "<style>\n",
       "  #altair-viz-9fbb78b7cdfb449795957c9ca48bc072.vega-embed {\n",
       "    width: 100%;\n",
       "    display: flex;\n",
       "  }\n",
       "\n",
       "  #altair-viz-9fbb78b7cdfb449795957c9ca48bc072.vega-embed details,\n",
       "  #altair-viz-9fbb78b7cdfb449795957c9ca48bc072.vega-embed details summary {\n",
       "    position: relative;\n",
       "  }\n",
       "</style>\n",
       "<div id=\"altair-viz-9fbb78b7cdfb449795957c9ca48bc072\"></div>\n",
       "<script type=\"text/javascript\">\n",
       "  var VEGA_DEBUG = (typeof VEGA_DEBUG == \"undefined\") ? {} : VEGA_DEBUG;\n",
       "  (function(spec, embedOpt){\n",
       "    let outputDiv = document.currentScript.previousElementSibling;\n",
       "    if (outputDiv.id !== \"altair-viz-9fbb78b7cdfb449795957c9ca48bc072\") {\n",
       "      outputDiv = document.getElementById(\"altair-viz-9fbb78b7cdfb449795957c9ca48bc072\");\n",
       "    }\n",
       "    const paths = {\n",
       "      \"vega\": \"https://cdn.jsdelivr.net/npm/vega@5?noext\",\n",
       "      \"vega-lib\": \"https://cdn.jsdelivr.net/npm/vega-lib?noext\",\n",
       "      \"vega-lite\": \"https://cdn.jsdelivr.net/npm/vega-lite@5.8.0?noext\",\n",
       "      \"vega-embed\": \"https://cdn.jsdelivr.net/npm/vega-embed@6?noext\",\n",
       "    };\n",
       "\n",
       "    function maybeLoadScript(lib, version) {\n",
       "      var key = `${lib.replace(\"-\", \"\")}_version`;\n",
       "      return (VEGA_DEBUG[key] == version) ?\n",
       "        Promise.resolve(paths[lib]) :\n",
       "        new Promise(function(resolve, reject) {\n",
       "          var s = document.createElement('script');\n",
       "          document.getElementsByTagName(\"head\")[0].appendChild(s);\n",
       "          s.async = true;\n",
       "          s.onload = () => {\n",
       "            VEGA_DEBUG[key] = version;\n",
       "            return resolve(paths[lib]);\n",
       "          };\n",
       "          s.onerror = () => reject(`Error loading script: ${paths[lib]}`);\n",
       "          s.src = paths[lib];\n",
       "        });\n",
       "    }\n",
       "\n",
       "    function showError(err) {\n",
       "      outputDiv.innerHTML = `<div class=\"error\" style=\"color:red;\">${err}</div>`;\n",
       "      throw err;\n",
       "    }\n",
       "\n",
       "    function displayChart(vegaEmbed) {\n",
       "      vegaEmbed(outputDiv, spec, embedOpt)\n",
       "        .catch(err => showError(`Javascript Error: ${err.message}<br>This usually means there's a typo in your chart specification. See the javascript console for the full traceback.`));\n",
       "    }\n",
       "\n",
       "    if(typeof define === \"function\" && define.amd) {\n",
       "      requirejs.config({paths});\n",
       "      require([\"vega-embed\"], displayChart, err => showError(`Error loading script: ${err.message}`));\n",
       "    } else {\n",
       "      maybeLoadScript(\"vega\", \"5\")\n",
       "        .then(() => maybeLoadScript(\"vega-lite\", \"5.8.0\"))\n",
       "        .then(() => maybeLoadScript(\"vega-embed\", \"6\"))\n",
       "        .catch(showError)\n",
       "        .then(() => displayChart(vegaEmbed));\n",
       "    }\n",
       "  })({\"config\": {\"view\": {\"continuousWidth\": 300, \"continuousHeight\": 300}}, \"data\": {\"name\": \"data-ee08fe22868040b6b3d88b7a2d94fff4\"}, \"mark\": {\"type\": \"circle\"}, \"encoding\": {\"color\": {\"value\": \"orange\"}, \"tooltip\": [{\"field\": \"Postcode\", \"type\": \"quantitative\"}, {\"field\": \"Average total business income\", \"type\": \"quantitative\"}, {\"field\": \"Average total business expenses\", \"type\": \"quantitative\"}], \"x\": {\"field\": \"Average total business income\", \"type\": \"quantitative\"}, \"y\": {\"field\": \"Average total business expenses\", \"type\": \"quantitative\"}}, \"params\": [{\"name\": \"param_2\", \"select\": {\"type\": \"interval\", \"encodings\": [\"x\", \"y\"]}, \"bind\": \"scales\"}], \"$schema\": \"https://vega.github.io/schema/vega-lite/v5.8.0.json\", \"datasets\": {\"data-ee08fe22868040b6b3d88b7a2d94fff4\": [{\"Postcode\": 2000, \"Average total business income\": 210901, \"Average total business expenses\": 222191}, {\"Postcode\": 2006, \"Average total business income\": 69983, \"Average total business expenses\": 48971}, {\"Postcode\": 2007, \"Average total business income\": 575099, \"Average total business expenses\": 639499}, {\"Postcode\": 2008, \"Average total business income\": 53329, \"Average total business expenses\": 32173}, {\"Postcode\": 2009, \"Average total business income\": 237539, \"Average total business expenses\": 222993}]}}, {\"mode\": \"vega-lite\"});\n",
       "</script>"
      ],
      "text/plain": [
       "alt.Chart(...)"
      ]
     },
     "execution_count": 15,
     "metadata": {},
     "output_type": "execute_result"
    }
   ],
   "source": [
    "# Ceeate a scatter plot of the data points\n",
    "chart1 = alt.Chart(df.head()).mark_circle().encode(x='Average total business income', \n",
    "                                                   y='Average total business expenses', \n",
    "                                                   color=alt.value('orange'), \n",
    "                                                   tooltip=['Postcode', \n",
    "                                                            'Average total business income', \n",
    "                                                            'Average total business expenses']).interactive()\n",
    "chart1"
   ]
  },
  {
   "cell_type": "code",
   "execution_count": 17,
   "metadata": {},
   "outputs": [
    {
     "data": {
      "text/html": [
       "\n",
       "<style>\n",
       "  #altair-viz-aaebe08c31f24f0ea4623610ef323c73.vega-embed {\n",
       "    width: 100%;\n",
       "    display: flex;\n",
       "  }\n",
       "\n",
       "  #altair-viz-aaebe08c31f24f0ea4623610ef323c73.vega-embed details,\n",
       "  #altair-viz-aaebe08c31f24f0ea4623610ef323c73.vega-embed details summary {\n",
       "    position: relative;\n",
       "  }\n",
       "</style>\n",
       "<div id=\"altair-viz-aaebe08c31f24f0ea4623610ef323c73\"></div>\n",
       "<script type=\"text/javascript\">\n",
       "  var VEGA_DEBUG = (typeof VEGA_DEBUG == \"undefined\") ? {} : VEGA_DEBUG;\n",
       "  (function(spec, embedOpt){\n",
       "    let outputDiv = document.currentScript.previousElementSibling;\n",
       "    if (outputDiv.id !== \"altair-viz-aaebe08c31f24f0ea4623610ef323c73\") {\n",
       "      outputDiv = document.getElementById(\"altair-viz-aaebe08c31f24f0ea4623610ef323c73\");\n",
       "    }\n",
       "    const paths = {\n",
       "      \"vega\": \"https://cdn.jsdelivr.net/npm/vega@5?noext\",\n",
       "      \"vega-lib\": \"https://cdn.jsdelivr.net/npm/vega-lib?noext\",\n",
       "      \"vega-lite\": \"https://cdn.jsdelivr.net/npm/vega-lite@5.8.0?noext\",\n",
       "      \"vega-embed\": \"https://cdn.jsdelivr.net/npm/vega-embed@6?noext\",\n",
       "    };\n",
       "\n",
       "    function maybeLoadScript(lib, version) {\n",
       "      var key = `${lib.replace(\"-\", \"\")}_version`;\n",
       "      return (VEGA_DEBUG[key] == version) ?\n",
       "        Promise.resolve(paths[lib]) :\n",
       "        new Promise(function(resolve, reject) {\n",
       "          var s = document.createElement('script');\n",
       "          document.getElementsByTagName(\"head\")[0].appendChild(s);\n",
       "          s.async = true;\n",
       "          s.onload = () => {\n",
       "            VEGA_DEBUG[key] = version;\n",
       "            return resolve(paths[lib]);\n",
       "          };\n",
       "          s.onerror = () => reject(`Error loading script: ${paths[lib]}`);\n",
       "          s.src = paths[lib];\n",
       "        });\n",
       "    }\n",
       "\n",
       "    function showError(err) {\n",
       "      outputDiv.innerHTML = `<div class=\"error\" style=\"color:red;\">${err}</div>`;\n",
       "      throw err;\n",
       "    }\n",
       "\n",
       "    function displayChart(vegaEmbed) {\n",
       "      vegaEmbed(outputDiv, spec, embedOpt)\n",
       "        .catch(err => showError(`Javascript Error: ${err.message}<br>This usually means there's a typo in your chart specification. See the javascript console for the full traceback.`));\n",
       "    }\n",
       "\n",
       "    if(typeof define === \"function\" && define.amd) {\n",
       "      requirejs.config({paths});\n",
       "      require([\"vega-embed\"], displayChart, err => showError(`Error loading script: ${err.message}`));\n",
       "    } else {\n",
       "      maybeLoadScript(\"vega\", \"5\")\n",
       "        .then(() => maybeLoadScript(\"vega-lite\", \"5.8.0\"))\n",
       "        .then(() => maybeLoadScript(\"vega-embed\", \"6\"))\n",
       "        .catch(showError)\n",
       "        .then(() => displayChart(vegaEmbed));\n",
       "    }\n",
       "  })({\"config\": {\"view\": {\"continuousWidth\": 300, \"continuousHeight\": 300}}, \"data\": {\"name\": \"data-4af31deb9417aa0ac5e19a2ec313b795\"}, \"mark\": {\"type\": \"circle\", \"size\": 100}, \"encoding\": {\"color\": {\"value\": \"black\"}, \"tooltip\": [{\"field\": \"cluster\", \"type\": \"quantitative\"}, {\"field\": \"Average total business income\", \"type\": \"quantitative\"}, {\"field\": \"Average total business expenses\", \"type\": \"quantitative\"}], \"x\": {\"field\": \"Average total business income\", \"type\": \"quantitative\"}, \"y\": {\"field\": \"Average total business expenses\", \"type\": \"quantitative\"}}, \"params\": [{\"name\": \"param_4\", \"select\": {\"type\": \"interval\", \"encodings\": [\"x\", \"y\"]}, \"bind\": \"scales\"}], \"$schema\": \"https://vega.github.io/schema/vega-lite/v5.8.0.json\", \"datasets\": {\"data-4af31deb9417aa0ac5e19a2ec313b795\": [{\"Average total business income\": 670487, \"Average total business expenses\": 288389, \"cluster\": 0}, {\"Average total business income\": 116739, \"Average total business expenses\": 256787, \"cluster\": 1}, {\"Average total business income\": 26225, \"Average total business expenses\": 234053, \"cluster\": 2}, {\"Average total business income\": 777572, \"Average total business expenses\": 146316, \"cluster\": 3}]}}, {\"mode\": \"vega-lite\"});\n",
       "</script>"
      ],
      "text/plain": [
       "alt.Chart(...)"
      ]
     },
     "execution_count": 17,
     "metadata": {},
     "output_type": "execute_result"
    }
   ],
   "source": [
    "chart2 = alt.Chart(centroids).mark_circle(size=100).encode(x='Average total business income', \n",
    "                                                           y='Average total business expenses', \n",
    "                                                           color=alt.value('black'), \n",
    "                                                           tooltip=['cluster', \n",
    "                                                                    'Average total business income',\n",
    "                                                                    'Average total business expenses']).interactive()\n",
    "chart2"
   ]
  },
  {
   "cell_type": "code",
   "execution_count": 19,
   "metadata": {},
   "outputs": [
    {
     "data": {
      "text/html": [
       "\n",
       "<style>\n",
       "  #altair-viz-4ea44beaa88044b88cf5dfdf26395c27.vega-embed {\n",
       "    width: 100%;\n",
       "    display: flex;\n",
       "  }\n",
       "\n",
       "  #altair-viz-4ea44beaa88044b88cf5dfdf26395c27.vega-embed details,\n",
       "  #altair-viz-4ea44beaa88044b88cf5dfdf26395c27.vega-embed details summary {\n",
       "    position: relative;\n",
       "  }\n",
       "</style>\n",
       "<div id=\"altair-viz-4ea44beaa88044b88cf5dfdf26395c27\"></div>\n",
       "<script type=\"text/javascript\">\n",
       "  var VEGA_DEBUG = (typeof VEGA_DEBUG == \"undefined\") ? {} : VEGA_DEBUG;\n",
       "  (function(spec, embedOpt){\n",
       "    let outputDiv = document.currentScript.previousElementSibling;\n",
       "    if (outputDiv.id !== \"altair-viz-4ea44beaa88044b88cf5dfdf26395c27\") {\n",
       "      outputDiv = document.getElementById(\"altair-viz-4ea44beaa88044b88cf5dfdf26395c27\");\n",
       "    }\n",
       "    const paths = {\n",
       "      \"vega\": \"https://cdn.jsdelivr.net/npm/vega@5?noext\",\n",
       "      \"vega-lib\": \"https://cdn.jsdelivr.net/npm/vega-lib?noext\",\n",
       "      \"vega-lite\": \"https://cdn.jsdelivr.net/npm/vega-lite@5.8.0?noext\",\n",
       "      \"vega-embed\": \"https://cdn.jsdelivr.net/npm/vega-embed@6?noext\",\n",
       "    };\n",
       "\n",
       "    function maybeLoadScript(lib, version) {\n",
       "      var key = `${lib.replace(\"-\", \"\")}_version`;\n",
       "      return (VEGA_DEBUG[key] == version) ?\n",
       "        Promise.resolve(paths[lib]) :\n",
       "        new Promise(function(resolve, reject) {\n",
       "          var s = document.createElement('script');\n",
       "          document.getElementsByTagName(\"head\")[0].appendChild(s);\n",
       "          s.async = true;\n",
       "          s.onload = () => {\n",
       "            VEGA_DEBUG[key] = version;\n",
       "            return resolve(paths[lib]);\n",
       "          };\n",
       "          s.onerror = () => reject(`Error loading script: ${paths[lib]}`);\n",
       "          s.src = paths[lib];\n",
       "        });\n",
       "    }\n",
       "\n",
       "    function showError(err) {\n",
       "      outputDiv.innerHTML = `<div class=\"error\" style=\"color:red;\">${err}</div>`;\n",
       "      throw err;\n",
       "    }\n",
       "\n",
       "    function displayChart(vegaEmbed) {\n",
       "      vegaEmbed(outputDiv, spec, embedOpt)\n",
       "        .catch(err => showError(`Javascript Error: ${err.message}<br>This usually means there's a typo in your chart specification. See the javascript console for the full traceback.`));\n",
       "    }\n",
       "\n",
       "    if(typeof define === \"function\" && define.amd) {\n",
       "      requirejs.config({paths});\n",
       "      require([\"vega-embed\"], displayChart, err => showError(`Error loading script: ${err.message}`));\n",
       "    } else {\n",
       "      maybeLoadScript(\"vega\", \"5\")\n",
       "        .then(() => maybeLoadScript(\"vega-lite\", \"5.8.0\"))\n",
       "        .then(() => maybeLoadScript(\"vega-embed\", \"6\"))\n",
       "        .catch(showError)\n",
       "        .then(() => displayChart(vegaEmbed));\n",
       "    }\n",
       "  })({\"config\": {\"view\": {\"continuousWidth\": 300, \"continuousHeight\": 300}}, \"layer\": [{\"data\": {\"name\": \"data-ee08fe22868040b6b3d88b7a2d94fff4\"}, \"mark\": {\"type\": \"circle\"}, \"encoding\": {\"color\": {\"value\": \"orange\"}, \"tooltip\": [{\"field\": \"Postcode\", \"type\": \"quantitative\"}, {\"field\": \"Average total business income\", \"type\": \"quantitative\"}, {\"field\": \"Average total business expenses\", \"type\": \"quantitative\"}], \"x\": {\"field\": \"Average total business income\", \"type\": \"quantitative\"}, \"y\": {\"field\": \"Average total business expenses\", \"type\": \"quantitative\"}}, \"name\": \"view_3\"}, {\"data\": {\"name\": \"data-4af31deb9417aa0ac5e19a2ec313b795\"}, \"mark\": {\"type\": \"circle\", \"size\": 100}, \"encoding\": {\"color\": {\"value\": \"black\"}, \"tooltip\": [{\"field\": \"cluster\", \"type\": \"quantitative\"}, {\"field\": \"Average total business income\", \"type\": \"quantitative\"}, {\"field\": \"Average total business expenses\", \"type\": \"quantitative\"}], \"x\": {\"field\": \"Average total business income\", \"type\": \"quantitative\"}, \"y\": {\"field\": \"Average total business expenses\", \"type\": \"quantitative\"}}, \"name\": \"view_4\"}], \"params\": [{\"name\": \"param_2\", \"select\": {\"type\": \"interval\", \"encodings\": [\"x\", \"y\"]}, \"bind\": \"scales\", \"views\": [\"view_3\"]}, {\"name\": \"param_4\", \"select\": {\"type\": \"interval\", \"encodings\": [\"x\", \"y\"]}, \"bind\": \"scales\", \"views\": [\"view_4\"]}], \"$schema\": \"https://vega.github.io/schema/vega-lite/v5.8.0.json\", \"datasets\": {\"data-ee08fe22868040b6b3d88b7a2d94fff4\": [{\"Postcode\": 2000, \"Average total business income\": 210901, \"Average total business expenses\": 222191}, {\"Postcode\": 2006, \"Average total business income\": 69983, \"Average total business expenses\": 48971}, {\"Postcode\": 2007, \"Average total business income\": 575099, \"Average total business expenses\": 639499}, {\"Postcode\": 2008, \"Average total business income\": 53329, \"Average total business expenses\": 32173}, {\"Postcode\": 2009, \"Average total business income\": 237539, \"Average total business expenses\": 222993}], \"data-4af31deb9417aa0ac5e19a2ec313b795\": [{\"Average total business income\": 670487, \"Average total business expenses\": 288389, \"cluster\": 0}, {\"Average total business income\": 116739, \"Average total business expenses\": 256787, \"cluster\": 1}, {\"Average total business income\": 26225, \"Average total business expenses\": 234053, \"cluster\": 2}, {\"Average total business income\": 777572, \"Average total business expenses\": 146316, \"cluster\": 3}]}}, {\"mode\": \"vega-lite\"});\n",
       "</script>"
      ],
      "text/plain": [
       "alt.LayerChart(...)"
      ]
     },
     "execution_count": 19,
     "metadata": {},
     "output_type": "execute_result"
    }
   ],
   "source": [
    "chart1 + chart2"
   ]
  },
  {
   "cell_type": "code",
   "execution_count": 20,
   "metadata": {},
   "outputs": [],
   "source": [
    "def squared_euclidean(data_x, data_y, \n",
    "                      centroid_x, centroid_y, ):\n",
    "    return (data_x - centroid_x)**2 + (data_y - centroid_y)**2"
   ]
  },
  {
   "cell_type": "code",
   "execution_count": 21,
   "metadata": {},
   "outputs": [],
   "source": [
    "data_x = df.at[0, 'Average total business income']\n",
    "data_y = df.at[0, 'Average total business expenses']"
   ]
  },
  {
   "cell_type": "code",
   "execution_count": 22,
   "metadata": {},
   "outputs": [
    {
     "data": {
      "text/plain": [
       "[215601466600, 10063365460, 34245932020, 326873037866]"
      ]
     },
     "execution_count": 22,
     "metadata": {},
     "output_type": "execute_result"
    }
   ],
   "source": [
    "distances = [squared_euclidean\\\n",
    "             (data_x, data_y, centroids.at\\\n",
    "              [i, 'Average total business income'], \n",
    "              centroids.at[i, \\\n",
    "              'Average total business expenses']) \n",
    "              for i in range(4)]\n",
    "distances"
   ]
  },
  {
   "cell_type": "code",
   "execution_count": 24,
   "metadata": {},
   "outputs": [
    {
     "data": {
      "text/plain": [
       "1"
      ]
     },
     "execution_count": 24,
     "metadata": {},
     "output_type": "execute_result"
    }
   ],
   "source": [
    "cluster_index = distances.index(min(distances))\n",
    "cluster_index"
   ]
  },
  {
   "cell_type": "code",
   "execution_count": 25,
   "metadata": {},
   "outputs": [],
   "source": [
    "df.at[0, 'cluster'] = cluster_index"
   ]
  },
  {
   "cell_type": "code",
   "execution_count": 26,
   "metadata": {},
   "outputs": [
    {
     "data": {
      "text/html": [
       "<div>\n",
       "<style scoped>\n",
       "    .dataframe tbody tr th:only-of-type {\n",
       "        vertical-align: middle;\n",
       "    }\n",
       "\n",
       "    .dataframe tbody tr th {\n",
       "        vertical-align: top;\n",
       "    }\n",
       "\n",
       "    .dataframe thead th {\n",
       "        text-align: right;\n",
       "    }\n",
       "</style>\n",
       "<table border=\"1\" class=\"dataframe\">\n",
       "  <thead>\n",
       "    <tr style=\"text-align: right;\">\n",
       "      <th></th>\n",
       "      <th>Postcode</th>\n",
       "      <th>Average total business income</th>\n",
       "      <th>Average total business expenses</th>\n",
       "      <th>cluster</th>\n",
       "    </tr>\n",
       "  </thead>\n",
       "  <tbody>\n",
       "    <tr>\n",
       "      <th>0</th>\n",
       "      <td>2000</td>\n",
       "      <td>210901</td>\n",
       "      <td>222191</td>\n",
       "      <td>1.0</td>\n",
       "    </tr>\n",
       "    <tr>\n",
       "      <th>1</th>\n",
       "      <td>2006</td>\n",
       "      <td>69983</td>\n",
       "      <td>48971</td>\n",
       "      <td>NaN</td>\n",
       "    </tr>\n",
       "    <tr>\n",
       "      <th>2</th>\n",
       "      <td>2007</td>\n",
       "      <td>575099</td>\n",
       "      <td>639499</td>\n",
       "      <td>NaN</td>\n",
       "    </tr>\n",
       "    <tr>\n",
       "      <th>3</th>\n",
       "      <td>2008</td>\n",
       "      <td>53329</td>\n",
       "      <td>32173</td>\n",
       "      <td>NaN</td>\n",
       "    </tr>\n",
       "    <tr>\n",
       "      <th>4</th>\n",
       "      <td>2009</td>\n",
       "      <td>237539</td>\n",
       "      <td>222993</td>\n",
       "      <td>NaN</td>\n",
       "    </tr>\n",
       "  </tbody>\n",
       "</table>\n",
       "</div>"
      ],
      "text/plain": [
       "   Postcode  Average total business income  Average total business expenses  \\\n",
       "0      2000                         210901                           222191   \n",
       "1      2006                          69983                            48971   \n",
       "2      2007                         575099                           639499   \n",
       "3      2008                          53329                            32173   \n",
       "4      2009                         237539                           222993   \n",
       "\n",
       "   cluster  \n",
       "0      1.0  \n",
       "1      NaN  \n",
       "2      NaN  \n",
       "3      NaN  \n",
       "4      NaN  "
      ]
     },
     "execution_count": 26,
     "metadata": {},
     "output_type": "execute_result"
    }
   ],
   "source": [
    "df.head()"
   ]
  },
  {
   "cell_type": "code",
   "execution_count": 27,
   "metadata": {},
   "outputs": [
    {
     "data": {
      "text/html": [
       "<div>\n",
       "<style scoped>\n",
       "    .dataframe tbody tr th:only-of-type {\n",
       "        vertical-align: middle;\n",
       "    }\n",
       "\n",
       "    .dataframe tbody tr th {\n",
       "        vertical-align: top;\n",
       "    }\n",
       "\n",
       "    .dataframe thead th {\n",
       "        text-align: right;\n",
       "    }\n",
       "</style>\n",
       "<table border=\"1\" class=\"dataframe\">\n",
       "  <thead>\n",
       "    <tr style=\"text-align: right;\">\n",
       "      <th></th>\n",
       "      <th>Postcode</th>\n",
       "      <th>Average total business income</th>\n",
       "      <th>Average total business expenses</th>\n",
       "      <th>cluster</th>\n",
       "    </tr>\n",
       "  </thead>\n",
       "  <tbody>\n",
       "    <tr>\n",
       "      <th>0</th>\n",
       "      <td>2000</td>\n",
       "      <td>210901</td>\n",
       "      <td>222191</td>\n",
       "      <td>1.0</td>\n",
       "    </tr>\n",
       "    <tr>\n",
       "      <th>1</th>\n",
       "      <td>2006</td>\n",
       "      <td>69983</td>\n",
       "      <td>48971</td>\n",
       "      <td>2.0</td>\n",
       "    </tr>\n",
       "    <tr>\n",
       "      <th>2</th>\n",
       "      <td>2007</td>\n",
       "      <td>575099</td>\n",
       "      <td>639499</td>\n",
       "      <td>0.0</td>\n",
       "    </tr>\n",
       "    <tr>\n",
       "      <th>3</th>\n",
       "      <td>2008</td>\n",
       "      <td>53329</td>\n",
       "      <td>32173</td>\n",
       "      <td>2.0</td>\n",
       "    </tr>\n",
       "    <tr>\n",
       "      <th>4</th>\n",
       "      <td>2009</td>\n",
       "      <td>237539</td>\n",
       "      <td>222993</td>\n",
       "      <td>1.0</td>\n",
       "    </tr>\n",
       "  </tbody>\n",
       "</table>\n",
       "</div>"
      ],
      "text/plain": [
       "   Postcode  Average total business income  Average total business expenses  \\\n",
       "0      2000                         210901                           222191   \n",
       "1      2006                          69983                            48971   \n",
       "2      2007                         575099                           639499   \n",
       "3      2008                          53329                            32173   \n",
       "4      2009                         237539                           222993   \n",
       "\n",
       "   cluster  \n",
       "0      1.0  \n",
       "1      2.0  \n",
       "2      0.0  \n",
       "3      2.0  \n",
       "4      1.0  "
      ]
     },
     "execution_count": 27,
     "metadata": {},
     "output_type": "execute_result"
    }
   ],
   "source": [
    "distances = [squared_euclidean\\\n",
    "             (df.at[1, 'Average total business income'], \n",
    "              df.at[1, 'Average total business expenses'], \n",
    "              centroids.at[i, 'Average total business income'],\n",
    "              centroids.at[i, \n",
    "                           'Average total business expenses'])\n",
    "             for i in range(4)]\n",
    "df.at[1, 'cluster'] = distances.index(min(distances))\n",
    "\n",
    "distances = [squared_euclidean\n",
    "             (df.at[2, 'Average total business income'], \n",
    "              df.at[2, 'Average total business expenses'],\n",
    "              centroids.at[i, 'Average total business income'],\n",
    "              centroids.at[i, \n",
    "                           'Average total business expenses'])\n",
    "             for i in range(4)]\n",
    "df.at[2, 'cluster'] = distances.index(min(distances))\n",
    "\n",
    "distances = [squared_euclidean\\\n",
    "             (df.at[3, 'Average total business income'], \n",
    "              df.at[3, 'Average total business expenses'], \n",
    "              centroids.at[i, 'Average total business income'],\n",
    "              centroids.at[i, \n",
    "                           'Average total business expenses'])\n",
    "             for i in range(4)]\n",
    "df.at[3, 'cluster'] = distances.index(min(distances))\n",
    "\n",
    "distances = [squared_euclidean\\\n",
    "             (df.at[4, 'Average total business income'], \n",
    "              df.at[4, 'Average total business expenses'], \n",
    "              centroids.at[i, \n",
    "              'Average total business income'], \n",
    "              centroids.at[i, \n",
    "              'Average total business expenses']) \n",
    "             for i in range(4)]\n",
    "df.at[4, 'cluster'] = distances.index(min(distances))\n",
    "\n",
    "df.head()"
   ]
  }
 ],
 "metadata": {
  "kernelspec": {
   "display_name": "Python 3",
   "language": "python",
   "name": "python3"
  },
  "language_info": {
   "codemirror_mode": {
    "name": "ipython",
    "version": 3
   },
   "file_extension": ".py",
   "mimetype": "text/x-python",
   "name": "python",
   "nbconvert_exporter": "python",
   "pygments_lexer": "ipython3",
   "version": "3.10.9"
  },
  "orig_nbformat": 4
 },
 "nbformat": 4,
 "nbformat_minor": 2
}
